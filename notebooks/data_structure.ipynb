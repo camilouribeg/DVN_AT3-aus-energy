{
 "cells": [
  {
   "cell_type": "markdown",
   "id": "6ba45391",
   "metadata": {},
   "source": [
    "## Repository Structure Generation and File Management"
   ]
  },
  {
   "cell_type": "code",
   "execution_count": 1,
   "id": "10f18258",
   "metadata": {},
   "outputs": [
    {
     "name": "stdout",
     "output_type": "stream",
     "text": [
      "✅ Folder structure created.\n"
     ]
    }
   ],
   "source": [
    "import os\n",
    "\n",
    "folders = [\n",
    "    \"data/raw\",\n",
    "    \"data/processed\",\n",
    "    \"notebooks\",\n",
    "    \"scripts\",\n",
    "    \"figures\"\n",
    "]\n",
    "\n",
    "for folder in folders:\n",
    "    os.makedirs(folder, exist_ok=True)\n",
    "\n",
    "print(\"✅ Folder structure created.\")"
   ]
  },
  {
   "cell_type": "code",
   "execution_count": null,
   "id": "a82c174e",
   "metadata": {},
   "outputs": [
    {
     "name": "stdout",
     "output_type": "stream",
     "text": [
      "✅ Renamed: australian_energy_statistics_2024_table_r (1).xlsx → table_r_renewables_consumption.xlsx\n",
      "✅ Renamed: australian_energy_statistics_2024_table_s (1).xlsx → table_s_uranium_exports.xlsx\n",
      "✅ Renamed: australian_energy_statistics_2024_table_f (1).xlsx → table_f_consumption_by_industry_fuel.xlsx\n",
      "✅ Renamed: australian_energy_statistics_2024_table_g (1).xlsx → table_g_consumption_by_fuel_physical.xlsx\n",
      "✅ Renamed: australian_energy_statistics_2024_table_l (1).xlsx → table_l_electricity_consumption.xlsx\n",
      "✅ Renamed: australian_energy_statistics_2024_table_m (1).xlsx → table_m_energy_imports.xlsx\n",
      "✅ Renamed: australian_energy_statistics_2024_table_k (1).xlsx → table_k_consumption_2022_by_industry.xlsx\n",
      "✅ Renamed: australian_energy_statistics_2024_table_j (1).xlsx → table_j_supply_trade_by_fuel.xlsx\n",
      "✅ Renamed: australian_energy_statistics_2024_table_a (3).xlsx → table_a_supply_consumption.xlsx\n",
      "✅ Renamed: australian_energy_statistics_2024_table_o (1).xlsx → table_o_electricity_generation.xlsx\n",
      "✅ Renamed: australian_energy_statistics_2024_table_n (1).xlsx → table_n_energy_exports.xlsx\n",
      "✅ Renamed: australian_energy_statistics_2024_table_e (1).xlsx → table_e_consumption_by_industry.xlsx\n",
      "✅ Renamed: australian_energy_statistics_2024_table_d (1).xlsx → table_d_consumption_detailed_fuel.xlsx\n",
      "✅ Renamed: australian_energy_statistics_2024_table_q (1).xlsx → table_q_gas_consumption_production.xlsx\n",
      "✅ Renamed: australian_energy_statistics_2024_table_p (1).xlsx → table_p_coal_consumption_production.xlsx\n",
      "✅ Renamed: australian_energy_statistics_2024_table_c (2).xlsx → table_c_consumption_by_fuel.xlsx\n",
      "✅ Renamed: australian_energy_statistics_2024_table_h (1).xlsx → table_h_total_final_consumption.xlsx\n",
      "✅ Renamed: australian_energy_statistics_2024_table_i (1).xlsx → table_i_production_primary_fuels.xlsx\n",
      "✅ Renamed: australian_energy_statistics_2024_table_b (1).xlsx → table_b_population_gdp_consumption.xlsx\n"
     ]
    }
   ],
   "source": [
    "import re\n",
    "\n",
    "# Map of clean filenames\n",
    "rename_map = {\n",
    "    \"a\": \"supply_consumption\",\n",
    "    \"b\": \"population_gdp_consumption\",\n",
    "    \"c\": \"consumption_by_fuel\",\n",
    "    \"d\": \"consumption_detailed_fuel\",\n",
    "    \"e\": \"consumption_by_industry\",\n",
    "    \"f\": \"consumption_by_industry_fuel\",\n",
    "    \"g\": \"consumption_by_fuel_physical\",\n",
    "    \"h\": \"total_final_consumption\",\n",
    "    \"i\": \"production_primary_fuels\",\n",
    "    \"j\": \"supply_trade_by_fuel\",\n",
    "    \"k\": \"consumption_2022_by_industry\",\n",
    "    \"l\": \"electricity_consumption\",\n",
    "    \"m\": \"energy_imports\",\n",
    "    \"n\": \"energy_exports\",\n",
    "    \"o\": \"electricity_generation\",\n",
    "    \"p\": \"coal_consumption_production\",\n",
    "    \"q\": \"gas_consumption_production\",\n",
    "    \"r\": \"renewables_consumption\",\n",
    "    \"s\": \"uranium_exports\"\n",
    "}\n",
    "\n",
    "folder = \"data/raw\"\n",
    "\n",
    "for file in os.listdir(folder):\n",
    "    if file.endswith(\".xlsx\") and \"table_\" in file.lower():\n",
    "        match = re.search(r'table_([a-s])', file.lower())\n",
    "        if match:\n",
    "            table_letter = match.group(1)\n",
    "            new_name = f\"table_{table_letter}_{rename_map[table_letter]}.xlsx\"\n",
    "            old_path = os.path.join(folder, file)\n",
    "            new_path = os.path.join(folder, new_name)\n",
    "            os.rename(old_path, new_path)\n",
    "            print(f\"✅ Renamed: {file} → {new_name}\")"
   ]
  },
  {
   "cell_type": "code",
   "execution_count": null,
   "id": "000de13e",
   "metadata": {},
   "outputs": [],
   "source": []
  }
 ],
 "metadata": {
  "kernelspec": {
   "display_name": ".venv",
   "language": "python",
   "name": "python3"
  },
  "language_info": {
   "codemirror_mode": {
    "name": "ipython",
    "version": 3
   },
   "file_extension": ".py",
   "mimetype": "text/x-python",
   "name": "python",
   "nbconvert_exporter": "python",
   "pygments_lexer": "ipython3",
   "version": "3.11.6"
  }
 },
 "nbformat": 4,
 "nbformat_minor": 5
}
